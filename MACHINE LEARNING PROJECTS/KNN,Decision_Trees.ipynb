{
  "nbformat": 4,
  "nbformat_minor": 0,
  "metadata": {
    "colab": {
      "provenance": []
    },
    "kernelspec": {
      "name": "python3",
      "display_name": "Python 3"
    },
    "language_info": {
      "name": "python"
    }
  },
  "cells": [
    {
      "cell_type": "code",
      "execution_count": null,
      "metadata": {
        "id": "S-WmQ1vzJv-8"
      },
      "outputs": [],
      "source": [
        "import numpy as np\n",
        "import pandas as pd\n",
        "import matplotlib.pyplot as plt\n",
        "import seaborn as sns "
      ]
    },
    {
      "cell_type": "markdown",
      "source": [
        "## KNN algorithm is multi-class classification"
      ],
      "metadata": {
        "id": "HsJO6hv2Q0bb"
      }
    },
    {
      "cell_type": "code",
      "source": [
        "df=pd.read_csv('/content/drug200.csv')"
      ],
      "metadata": {
        "id": "81LNElyIKLe9"
      },
      "execution_count": null,
      "outputs": []
    },
    {
      "cell_type": "code",
      "source": [
        "df.head(10)"
      ],
      "metadata": {
        "colab": {
          "base_uri": "https://localhost:8080/",
          "height": 363
        },
        "id": "6Yo07TpDKRdm",
        "outputId": "37b21d98-e54d-4361-a772-2e8278a80586"
      },
      "execution_count": null,
      "outputs": [
        {
          "output_type": "execute_result",
          "data": {
            "text/plain": [
              "   Age Sex      BP Cholesterol  Na_to_K   Drug\n",
              "0   23   F    HIGH        HIGH   25.355  drugY\n",
              "1   47   M     LOW        HIGH   13.093  drugC\n",
              "2   47   M     LOW        HIGH   10.114  drugC\n",
              "3   28   F  NORMAL        HIGH    7.798  drugX\n",
              "4   61   F     LOW        HIGH   18.043  drugY\n",
              "5   22   F  NORMAL        HIGH    8.607  drugX\n",
              "6   49   F  NORMAL        HIGH   16.275  drugY\n",
              "7   41   M     LOW        HIGH   11.037  drugC\n",
              "8   60   M  NORMAL        HIGH   15.171  drugY\n",
              "9   43   M     LOW      NORMAL   19.368  drugY"
            ],
            "text/html": [
              "\n",
              "  <div id=\"df-3c9dc2dd-872a-4540-ba24-dd778e894ef3\">\n",
              "    <div class=\"colab-df-container\">\n",
              "      <div>\n",
              "<style scoped>\n",
              "    .dataframe tbody tr th:only-of-type {\n",
              "        vertical-align: middle;\n",
              "    }\n",
              "\n",
              "    .dataframe tbody tr th {\n",
              "        vertical-align: top;\n",
              "    }\n",
              "\n",
              "    .dataframe thead th {\n",
              "        text-align: right;\n",
              "    }\n",
              "</style>\n",
              "<table border=\"1\" class=\"dataframe\">\n",
              "  <thead>\n",
              "    <tr style=\"text-align: right;\">\n",
              "      <th></th>\n",
              "      <th>Age</th>\n",
              "      <th>Sex</th>\n",
              "      <th>BP</th>\n",
              "      <th>Cholesterol</th>\n",
              "      <th>Na_to_K</th>\n",
              "      <th>Drug</th>\n",
              "    </tr>\n",
              "  </thead>\n",
              "  <tbody>\n",
              "    <tr>\n",
              "      <th>0</th>\n",
              "      <td>23</td>\n",
              "      <td>F</td>\n",
              "      <td>HIGH</td>\n",
              "      <td>HIGH</td>\n",
              "      <td>25.355</td>\n",
              "      <td>drugY</td>\n",
              "    </tr>\n",
              "    <tr>\n",
              "      <th>1</th>\n",
              "      <td>47</td>\n",
              "      <td>M</td>\n",
              "      <td>LOW</td>\n",
              "      <td>HIGH</td>\n",
              "      <td>13.093</td>\n",
              "      <td>drugC</td>\n",
              "    </tr>\n",
              "    <tr>\n",
              "      <th>2</th>\n",
              "      <td>47</td>\n",
              "      <td>M</td>\n",
              "      <td>LOW</td>\n",
              "      <td>HIGH</td>\n",
              "      <td>10.114</td>\n",
              "      <td>drugC</td>\n",
              "    </tr>\n",
              "    <tr>\n",
              "      <th>3</th>\n",
              "      <td>28</td>\n",
              "      <td>F</td>\n",
              "      <td>NORMAL</td>\n",
              "      <td>HIGH</td>\n",
              "      <td>7.798</td>\n",
              "      <td>drugX</td>\n",
              "    </tr>\n",
              "    <tr>\n",
              "      <th>4</th>\n",
              "      <td>61</td>\n",
              "      <td>F</td>\n",
              "      <td>LOW</td>\n",
              "      <td>HIGH</td>\n",
              "      <td>18.043</td>\n",
              "      <td>drugY</td>\n",
              "    </tr>\n",
              "    <tr>\n",
              "      <th>5</th>\n",
              "      <td>22</td>\n",
              "      <td>F</td>\n",
              "      <td>NORMAL</td>\n",
              "      <td>HIGH</td>\n",
              "      <td>8.607</td>\n",
              "      <td>drugX</td>\n",
              "    </tr>\n",
              "    <tr>\n",
              "      <th>6</th>\n",
              "      <td>49</td>\n",
              "      <td>F</td>\n",
              "      <td>NORMAL</td>\n",
              "      <td>HIGH</td>\n",
              "      <td>16.275</td>\n",
              "      <td>drugY</td>\n",
              "    </tr>\n",
              "    <tr>\n",
              "      <th>7</th>\n",
              "      <td>41</td>\n",
              "      <td>M</td>\n",
              "      <td>LOW</td>\n",
              "      <td>HIGH</td>\n",
              "      <td>11.037</td>\n",
              "      <td>drugC</td>\n",
              "    </tr>\n",
              "    <tr>\n",
              "      <th>8</th>\n",
              "      <td>60</td>\n",
              "      <td>M</td>\n",
              "      <td>NORMAL</td>\n",
              "      <td>HIGH</td>\n",
              "      <td>15.171</td>\n",
              "      <td>drugY</td>\n",
              "    </tr>\n",
              "    <tr>\n",
              "      <th>9</th>\n",
              "      <td>43</td>\n",
              "      <td>M</td>\n",
              "      <td>LOW</td>\n",
              "      <td>NORMAL</td>\n",
              "      <td>19.368</td>\n",
              "      <td>drugY</td>\n",
              "    </tr>\n",
              "  </tbody>\n",
              "</table>\n",
              "</div>\n",
              "      <button class=\"colab-df-convert\" onclick=\"convertToInteractive('df-3c9dc2dd-872a-4540-ba24-dd778e894ef3')\"\n",
              "              title=\"Convert this dataframe to an interactive table.\"\n",
              "              style=\"display:none;\">\n",
              "        \n",
              "  <svg xmlns=\"http://www.w3.org/2000/svg\" height=\"24px\"viewBox=\"0 0 24 24\"\n",
              "       width=\"24px\">\n",
              "    <path d=\"M0 0h24v24H0V0z\" fill=\"none\"/>\n",
              "    <path d=\"M18.56 5.44l.94 2.06.94-2.06 2.06-.94-2.06-.94-.94-2.06-.94 2.06-2.06.94zm-11 1L8.5 8.5l.94-2.06 2.06-.94-2.06-.94L8.5 2.5l-.94 2.06-2.06.94zm10 10l.94 2.06.94-2.06 2.06-.94-2.06-.94-.94-2.06-.94 2.06-2.06.94z\"/><path d=\"M17.41 7.96l-1.37-1.37c-.4-.4-.92-.59-1.43-.59-.52 0-1.04.2-1.43.59L10.3 9.45l-7.72 7.72c-.78.78-.78 2.05 0 2.83L4 21.41c.39.39.9.59 1.41.59.51 0 1.02-.2 1.41-.59l7.78-7.78 2.81-2.81c.8-.78.8-2.07 0-2.86zM5.41 20L4 18.59l7.72-7.72 1.47 1.35L5.41 20z\"/>\n",
              "  </svg>\n",
              "      </button>\n",
              "      \n",
              "  <style>\n",
              "    .colab-df-container {\n",
              "      display:flex;\n",
              "      flex-wrap:wrap;\n",
              "      gap: 12px;\n",
              "    }\n",
              "\n",
              "    .colab-df-convert {\n",
              "      background-color: #E8F0FE;\n",
              "      border: none;\n",
              "      border-radius: 50%;\n",
              "      cursor: pointer;\n",
              "      display: none;\n",
              "      fill: #1967D2;\n",
              "      height: 32px;\n",
              "      padding: 0 0 0 0;\n",
              "      width: 32px;\n",
              "    }\n",
              "\n",
              "    .colab-df-convert:hover {\n",
              "      background-color: #E2EBFA;\n",
              "      box-shadow: 0px 1px 2px rgba(60, 64, 67, 0.3), 0px 1px 3px 1px rgba(60, 64, 67, 0.15);\n",
              "      fill: #174EA6;\n",
              "    }\n",
              "\n",
              "    [theme=dark] .colab-df-convert {\n",
              "      background-color: #3B4455;\n",
              "      fill: #D2E3FC;\n",
              "    }\n",
              "\n",
              "    [theme=dark] .colab-df-convert:hover {\n",
              "      background-color: #434B5C;\n",
              "      box-shadow: 0px 1px 3px 1px rgba(0, 0, 0, 0.15);\n",
              "      filter: drop-shadow(0px 1px 2px rgba(0, 0, 0, 0.3));\n",
              "      fill: #FFFFFF;\n",
              "    }\n",
              "  </style>\n",
              "\n",
              "      <script>\n",
              "        const buttonEl =\n",
              "          document.querySelector('#df-3c9dc2dd-872a-4540-ba24-dd778e894ef3 button.colab-df-convert');\n",
              "        buttonEl.style.display =\n",
              "          google.colab.kernel.accessAllowed ? 'block' : 'none';\n",
              "\n",
              "        async function convertToInteractive(key) {\n",
              "          const element = document.querySelector('#df-3c9dc2dd-872a-4540-ba24-dd778e894ef3');\n",
              "          const dataTable =\n",
              "            await google.colab.kernel.invokeFunction('convertToInteractive',\n",
              "                                                     [key], {});\n",
              "          if (!dataTable) return;\n",
              "\n",
              "          const docLinkHtml = 'Like what you see? Visit the ' +\n",
              "            '<a target=\"_blank\" href=https://colab.research.google.com/notebooks/data_table.ipynb>data table notebook</a>'\n",
              "            + ' to learn more about interactive tables.';\n",
              "          element.innerHTML = '';\n",
              "          dataTable['output_type'] = 'display_data';\n",
              "          await google.colab.output.renderOutput(dataTable, element);\n",
              "          const docLink = document.createElement('div');\n",
              "          docLink.innerHTML = docLinkHtml;\n",
              "          element.appendChild(docLink);\n",
              "        }\n",
              "      </script>\n",
              "    </div>\n",
              "  </div>\n",
              "  "
            ]
          },
          "metadata": {},
          "execution_count": 86
        }
      ]
    },
    {
      "cell_type": "code",
      "source": [
        "df.duplicated().sum()"
      ],
      "metadata": {
        "colab": {
          "base_uri": "https://localhost:8080/"
        },
        "id": "f4iV8Pa0KUCO",
        "outputId": "17afb604-a77e-44d2-a943-dbe55423b93d"
      },
      "execution_count": null,
      "outputs": [
        {
          "output_type": "execute_result",
          "data": {
            "text/plain": [
              "0"
            ]
          },
          "metadata": {},
          "execution_count": 87
        }
      ]
    },
    {
      "cell_type": "code",
      "source": [
        "df.isnull().sum()"
      ],
      "metadata": {
        "colab": {
          "base_uri": "https://localhost:8080/"
        },
        "id": "cG6_R1F3KZzf",
        "outputId": "3464de3a-113d-4d9f-d0c5-ed7d6f6bb983"
      },
      "execution_count": null,
      "outputs": [
        {
          "output_type": "execute_result",
          "data": {
            "text/plain": [
              "Age            0\n",
              "Sex            0\n",
              "BP             0\n",
              "Cholesterol    0\n",
              "Na_to_K        0\n",
              "Drug           0\n",
              "dtype: int64"
            ]
          },
          "metadata": {},
          "execution_count": 88
        }
      ]
    },
    {
      "cell_type": "code",
      "source": [
        "print('BP is:',df['BP'].unique())\n",
        "print('Cholestrol is:',df['Cholesterol'].unique())\n",
        "print('Drug is:',df['Drug'].unique())"
      ],
      "metadata": {
        "colab": {
          "base_uri": "https://localhost:8080/"
        },
        "id": "DIzwDmT0KZ9v",
        "outputId": "c0091eb1-be37-427a-a9df-1adc56cbbf3a"
      },
      "execution_count": null,
      "outputs": [
        {
          "output_type": "stream",
          "name": "stdout",
          "text": [
            "BP is: ['HIGH' 'LOW' 'NORMAL']\n",
            "Cholestrol is: ['HIGH' 'NORMAL']\n",
            "Drug is: ['drugY' 'drugC' 'drugX' 'drugA' 'drugB']\n"
          ]
        }
      ]
    },
    {
      "cell_type": "code",
      "source": [
        "df['Cholesterol']=df['Cholesterol'].map({'HIGH':1,'NORMAL':0}).astype(int)"
      ],
      "metadata": {
        "id": "Txp9pjW1KvAc"
      },
      "execution_count": null,
      "outputs": []
    },
    {
      "cell_type": "code",
      "source": [
        "df['BP']=df['BP'].map({'HIGH':2,'LOW':0,'NORMAL':1}).astype(int)"
      ],
      "metadata": {
        "id": "pdQj764xLOfW"
      },
      "execution_count": null,
      "outputs": []
    },
    {
      "cell_type": "code",
      "source": [
        "df['Sex']=df['Sex'].map({'F':1,'M':0}).astype(int)"
      ],
      "metadata": {
        "id": "VSO1l1BZLvbr"
      },
      "execution_count": null,
      "outputs": []
    },
    {
      "cell_type": "code",
      "source": [
        "df.head()"
      ],
      "metadata": {
        "colab": {
          "base_uri": "https://localhost:8080/",
          "height": 206
        },
        "id": "I8TvUQc5L5tf",
        "outputId": "d376c3b4-55af-4847-bf9b-93abec17388e"
      },
      "execution_count": null,
      "outputs": [
        {
          "output_type": "execute_result",
          "data": {
            "text/plain": [
              "   Age  Sex  BP  Cholesterol  Na_to_K   Drug\n",
              "0   23    1   2            1   25.355  drugY\n",
              "1   47    0   0            1   13.093  drugC\n",
              "2   47    0   0            1   10.114  drugC\n",
              "3   28    1   1            1    7.798  drugX\n",
              "4   61    1   0            1   18.043  drugY"
            ],
            "text/html": [
              "\n",
              "  <div id=\"df-f6e30355-1013-4271-ae5f-9221abbffb64\">\n",
              "    <div class=\"colab-df-container\">\n",
              "      <div>\n",
              "<style scoped>\n",
              "    .dataframe tbody tr th:only-of-type {\n",
              "        vertical-align: middle;\n",
              "    }\n",
              "\n",
              "    .dataframe tbody tr th {\n",
              "        vertical-align: top;\n",
              "    }\n",
              "\n",
              "    .dataframe thead th {\n",
              "        text-align: right;\n",
              "    }\n",
              "</style>\n",
              "<table border=\"1\" class=\"dataframe\">\n",
              "  <thead>\n",
              "    <tr style=\"text-align: right;\">\n",
              "      <th></th>\n",
              "      <th>Age</th>\n",
              "      <th>Sex</th>\n",
              "      <th>BP</th>\n",
              "      <th>Cholesterol</th>\n",
              "      <th>Na_to_K</th>\n",
              "      <th>Drug</th>\n",
              "    </tr>\n",
              "  </thead>\n",
              "  <tbody>\n",
              "    <tr>\n",
              "      <th>0</th>\n",
              "      <td>23</td>\n",
              "      <td>1</td>\n",
              "      <td>2</td>\n",
              "      <td>1</td>\n",
              "      <td>25.355</td>\n",
              "      <td>drugY</td>\n",
              "    </tr>\n",
              "    <tr>\n",
              "      <th>1</th>\n",
              "      <td>47</td>\n",
              "      <td>0</td>\n",
              "      <td>0</td>\n",
              "      <td>1</td>\n",
              "      <td>13.093</td>\n",
              "      <td>drugC</td>\n",
              "    </tr>\n",
              "    <tr>\n",
              "      <th>2</th>\n",
              "      <td>47</td>\n",
              "      <td>0</td>\n",
              "      <td>0</td>\n",
              "      <td>1</td>\n",
              "      <td>10.114</td>\n",
              "      <td>drugC</td>\n",
              "    </tr>\n",
              "    <tr>\n",
              "      <th>3</th>\n",
              "      <td>28</td>\n",
              "      <td>1</td>\n",
              "      <td>1</td>\n",
              "      <td>1</td>\n",
              "      <td>7.798</td>\n",
              "      <td>drugX</td>\n",
              "    </tr>\n",
              "    <tr>\n",
              "      <th>4</th>\n",
              "      <td>61</td>\n",
              "      <td>1</td>\n",
              "      <td>0</td>\n",
              "      <td>1</td>\n",
              "      <td>18.043</td>\n",
              "      <td>drugY</td>\n",
              "    </tr>\n",
              "  </tbody>\n",
              "</table>\n",
              "</div>\n",
              "      <button class=\"colab-df-convert\" onclick=\"convertToInteractive('df-f6e30355-1013-4271-ae5f-9221abbffb64')\"\n",
              "              title=\"Convert this dataframe to an interactive table.\"\n",
              "              style=\"display:none;\">\n",
              "        \n",
              "  <svg xmlns=\"http://www.w3.org/2000/svg\" height=\"24px\"viewBox=\"0 0 24 24\"\n",
              "       width=\"24px\">\n",
              "    <path d=\"M0 0h24v24H0V0z\" fill=\"none\"/>\n",
              "    <path d=\"M18.56 5.44l.94 2.06.94-2.06 2.06-.94-2.06-.94-.94-2.06-.94 2.06-2.06.94zm-11 1L8.5 8.5l.94-2.06 2.06-.94-2.06-.94L8.5 2.5l-.94 2.06-2.06.94zm10 10l.94 2.06.94-2.06 2.06-.94-2.06-.94-.94-2.06-.94 2.06-2.06.94z\"/><path d=\"M17.41 7.96l-1.37-1.37c-.4-.4-.92-.59-1.43-.59-.52 0-1.04.2-1.43.59L10.3 9.45l-7.72 7.72c-.78.78-.78 2.05 0 2.83L4 21.41c.39.39.9.59 1.41.59.51 0 1.02-.2 1.41-.59l7.78-7.78 2.81-2.81c.8-.78.8-2.07 0-2.86zM5.41 20L4 18.59l7.72-7.72 1.47 1.35L5.41 20z\"/>\n",
              "  </svg>\n",
              "      </button>\n",
              "      \n",
              "  <style>\n",
              "    .colab-df-container {\n",
              "      display:flex;\n",
              "      flex-wrap:wrap;\n",
              "      gap: 12px;\n",
              "    }\n",
              "\n",
              "    .colab-df-convert {\n",
              "      background-color: #E8F0FE;\n",
              "      border: none;\n",
              "      border-radius: 50%;\n",
              "      cursor: pointer;\n",
              "      display: none;\n",
              "      fill: #1967D2;\n",
              "      height: 32px;\n",
              "      padding: 0 0 0 0;\n",
              "      width: 32px;\n",
              "    }\n",
              "\n",
              "    .colab-df-convert:hover {\n",
              "      background-color: #E2EBFA;\n",
              "      box-shadow: 0px 1px 2px rgba(60, 64, 67, 0.3), 0px 1px 3px 1px rgba(60, 64, 67, 0.15);\n",
              "      fill: #174EA6;\n",
              "    }\n",
              "\n",
              "    [theme=dark] .colab-df-convert {\n",
              "      background-color: #3B4455;\n",
              "      fill: #D2E3FC;\n",
              "    }\n",
              "\n",
              "    [theme=dark] .colab-df-convert:hover {\n",
              "      background-color: #434B5C;\n",
              "      box-shadow: 0px 1px 3px 1px rgba(0, 0, 0, 0.15);\n",
              "      filter: drop-shadow(0px 1px 2px rgba(0, 0, 0, 0.3));\n",
              "      fill: #FFFFFF;\n",
              "    }\n",
              "  </style>\n",
              "\n",
              "      <script>\n",
              "        const buttonEl =\n",
              "          document.querySelector('#df-f6e30355-1013-4271-ae5f-9221abbffb64 button.colab-df-convert');\n",
              "        buttonEl.style.display =\n",
              "          google.colab.kernel.accessAllowed ? 'block' : 'none';\n",
              "\n",
              "        async function convertToInteractive(key) {\n",
              "          const element = document.querySelector('#df-f6e30355-1013-4271-ae5f-9221abbffb64');\n",
              "          const dataTable =\n",
              "            await google.colab.kernel.invokeFunction('convertToInteractive',\n",
              "                                                     [key], {});\n",
              "          if (!dataTable) return;\n",
              "\n",
              "          const docLinkHtml = 'Like what you see? Visit the ' +\n",
              "            '<a target=\"_blank\" href=https://colab.research.google.com/notebooks/data_table.ipynb>data table notebook</a>'\n",
              "            + ' to learn more about interactive tables.';\n",
              "          element.innerHTML = '';\n",
              "          dataTable['output_type'] = 'display_data';\n",
              "          await google.colab.output.renderOutput(dataTable, element);\n",
              "          const docLink = document.createElement('div');\n",
              "          docLink.innerHTML = docLinkHtml;\n",
              "          element.appendChild(docLink);\n",
              "        }\n",
              "      </script>\n",
              "    </div>\n",
              "  </div>\n",
              "  "
            ]
          },
          "metadata": {},
          "execution_count": 93
        }
      ]
    },
    {
      "cell_type": "code",
      "source": [
        "x=df.iloc[:,0:5].values\n",
        "y=df.iloc[:,-1:].values"
      ],
      "metadata": {
        "id": "5ms3RQiaL9mJ"
      },
      "execution_count": null,
      "outputs": []
    },
    {
      "cell_type": "code",
      "source": [
        "x"
      ],
      "metadata": {
        "colab": {
          "base_uri": "https://localhost:8080/"
        },
        "id": "Z34ABS2dMK0z",
        "outputId": "96b3a32d-2336-4e84-cc69-ab86533be27d"
      },
      "execution_count": null,
      "outputs": [
        {
          "output_type": "execute_result",
          "data": {
            "text/plain": [
              "array([[23.   ,  1.   ,  2.   ,  1.   , 25.355],\n",
              "       [47.   ,  0.   ,  0.   ,  1.   , 13.093],\n",
              "       [47.   ,  0.   ,  0.   ,  1.   , 10.114],\n",
              "       [28.   ,  1.   ,  1.   ,  1.   ,  7.798],\n",
              "       [61.   ,  1.   ,  0.   ,  1.   , 18.043],\n",
              "       [22.   ,  1.   ,  1.   ,  1.   ,  8.607],\n",
              "       [49.   ,  1.   ,  1.   ,  1.   , 16.275],\n",
              "       [41.   ,  0.   ,  0.   ,  1.   , 11.037],\n",
              "       [60.   ,  0.   ,  1.   ,  1.   , 15.171],\n",
              "       [43.   ,  0.   ,  0.   ,  0.   , 19.368],\n",
              "       [47.   ,  1.   ,  0.   ,  1.   , 11.767],\n",
              "       [34.   ,  1.   ,  2.   ,  0.   , 19.199],\n",
              "       [43.   ,  0.   ,  0.   ,  1.   , 15.376],\n",
              "       [74.   ,  1.   ,  0.   ,  1.   , 20.942],\n",
              "       [50.   ,  1.   ,  1.   ,  1.   , 12.703],\n",
              "       [16.   ,  1.   ,  2.   ,  0.   , 15.516],\n",
              "       [69.   ,  0.   ,  0.   ,  0.   , 11.455],\n",
              "       [43.   ,  0.   ,  2.   ,  1.   , 13.972],\n",
              "       [23.   ,  0.   ,  0.   ,  1.   ,  7.298],\n",
              "       [32.   ,  1.   ,  2.   ,  0.   , 25.974],\n",
              "       [57.   ,  0.   ,  0.   ,  0.   , 19.128],\n",
              "       [63.   ,  0.   ,  1.   ,  1.   , 25.917],\n",
              "       [47.   ,  0.   ,  0.   ,  0.   , 30.568],\n",
              "       [48.   ,  1.   ,  0.   ,  1.   , 15.036],\n",
              "       [33.   ,  1.   ,  0.   ,  1.   , 33.486],\n",
              "       [28.   ,  1.   ,  2.   ,  0.   , 18.809],\n",
              "       [31.   ,  0.   ,  2.   ,  1.   , 30.366],\n",
              "       [49.   ,  1.   ,  1.   ,  0.   ,  9.381],\n",
              "       [39.   ,  1.   ,  0.   ,  0.   , 22.697],\n",
              "       [45.   ,  0.   ,  0.   ,  1.   , 17.951],\n",
              "       [18.   ,  1.   ,  1.   ,  0.   ,  8.75 ],\n",
              "       [74.   ,  0.   ,  2.   ,  1.   ,  9.567],\n",
              "       [49.   ,  0.   ,  0.   ,  0.   , 11.014],\n",
              "       [65.   ,  1.   ,  2.   ,  0.   , 31.876],\n",
              "       [53.   ,  0.   ,  1.   ,  1.   , 14.133],\n",
              "       [46.   ,  0.   ,  1.   ,  0.   ,  7.285],\n",
              "       [32.   ,  0.   ,  2.   ,  0.   ,  9.445],\n",
              "       [39.   ,  0.   ,  0.   ,  0.   , 13.938],\n",
              "       [39.   ,  1.   ,  1.   ,  0.   ,  9.709],\n",
              "       [15.   ,  0.   ,  1.   ,  1.   ,  9.084],\n",
              "       [73.   ,  1.   ,  1.   ,  1.   , 19.221],\n",
              "       [58.   ,  1.   ,  2.   ,  0.   , 14.239],\n",
              "       [50.   ,  0.   ,  1.   ,  0.   , 15.79 ],\n",
              "       [23.   ,  0.   ,  1.   ,  1.   , 12.26 ],\n",
              "       [50.   ,  1.   ,  1.   ,  0.   , 12.295],\n",
              "       [66.   ,  1.   ,  1.   ,  0.   ,  8.107],\n",
              "       [37.   ,  1.   ,  2.   ,  1.   , 13.091],\n",
              "       [68.   ,  0.   ,  0.   ,  1.   , 10.291],\n",
              "       [23.   ,  0.   ,  1.   ,  1.   , 31.686],\n",
              "       [28.   ,  1.   ,  0.   ,  1.   , 19.796],\n",
              "       [58.   ,  1.   ,  2.   ,  1.   , 19.416],\n",
              "       [67.   ,  0.   ,  1.   ,  0.   , 10.898],\n",
              "       [62.   ,  0.   ,  0.   ,  0.   , 27.183],\n",
              "       [24.   ,  1.   ,  2.   ,  0.   , 18.457],\n",
              "       [68.   ,  1.   ,  2.   ,  0.   , 10.189],\n",
              "       [26.   ,  1.   ,  0.   ,  1.   , 14.16 ],\n",
              "       [65.   ,  0.   ,  2.   ,  0.   , 11.34 ],\n",
              "       [40.   ,  0.   ,  2.   ,  1.   , 27.826],\n",
              "       [60.   ,  0.   ,  1.   ,  0.   , 10.091],\n",
              "       [34.   ,  0.   ,  2.   ,  1.   , 18.703],\n",
              "       [38.   ,  1.   ,  0.   ,  0.   , 29.875],\n",
              "       [24.   ,  0.   ,  2.   ,  0.   ,  9.475],\n",
              "       [67.   ,  0.   ,  0.   ,  0.   , 20.693],\n",
              "       [45.   ,  0.   ,  0.   ,  0.   ,  8.37 ],\n",
              "       [60.   ,  1.   ,  2.   ,  1.   , 13.303],\n",
              "       [68.   ,  1.   ,  1.   ,  0.   , 27.05 ],\n",
              "       [29.   ,  0.   ,  2.   ,  1.   , 12.856],\n",
              "       [17.   ,  0.   ,  1.   ,  0.   , 10.832],\n",
              "       [54.   ,  0.   ,  1.   ,  1.   , 24.658],\n",
              "       [18.   ,  1.   ,  2.   ,  0.   , 24.276],\n",
              "       [70.   ,  0.   ,  2.   ,  1.   , 13.967],\n",
              "       [28.   ,  1.   ,  1.   ,  1.   , 19.675],\n",
              "       [24.   ,  1.   ,  1.   ,  1.   , 10.605],\n",
              "       [41.   ,  1.   ,  1.   ,  0.   , 22.905],\n",
              "       [31.   ,  0.   ,  2.   ,  0.   , 17.069],\n",
              "       [26.   ,  0.   ,  0.   ,  0.   , 20.909],\n",
              "       [36.   ,  1.   ,  2.   ,  1.   , 11.198],\n",
              "       [26.   ,  1.   ,  2.   ,  0.   , 19.161],\n",
              "       [19.   ,  1.   ,  2.   ,  1.   , 13.313],\n",
              "       [32.   ,  1.   ,  0.   ,  0.   , 10.84 ],\n",
              "       [60.   ,  0.   ,  2.   ,  1.   , 13.934],\n",
              "       [64.   ,  0.   ,  1.   ,  1.   ,  7.761],\n",
              "       [32.   ,  1.   ,  0.   ,  1.   ,  9.712],\n",
              "       [38.   ,  1.   ,  2.   ,  0.   , 11.326],\n",
              "       [47.   ,  1.   ,  0.   ,  1.   , 10.067],\n",
              "       [59.   ,  0.   ,  2.   ,  1.   , 13.935],\n",
              "       [51.   ,  1.   ,  1.   ,  1.   , 13.597],\n",
              "       [69.   ,  0.   ,  0.   ,  1.   , 15.478],\n",
              "       [37.   ,  1.   ,  2.   ,  0.   , 23.091],\n",
              "       [50.   ,  1.   ,  1.   ,  0.   , 17.211],\n",
              "       [62.   ,  0.   ,  1.   ,  1.   , 16.594],\n",
              "       [41.   ,  0.   ,  2.   ,  0.   , 15.156],\n",
              "       [29.   ,  1.   ,  2.   ,  1.   , 29.45 ],\n",
              "       [42.   ,  1.   ,  0.   ,  0.   , 29.271],\n",
              "       [56.   ,  0.   ,  0.   ,  1.   , 15.015],\n",
              "       [36.   ,  0.   ,  0.   ,  0.   , 11.424],\n",
              "       [58.   ,  1.   ,  0.   ,  1.   , 38.247],\n",
              "       [56.   ,  1.   ,  2.   ,  1.   , 25.395],\n",
              "       [20.   ,  0.   ,  2.   ,  0.   , 35.639],\n",
              "       [15.   ,  1.   ,  2.   ,  0.   , 16.725],\n",
              "       [31.   ,  0.   ,  2.   ,  0.   , 11.871],\n",
              "       [45.   ,  1.   ,  2.   ,  1.   , 12.854],\n",
              "       [28.   ,  1.   ,  0.   ,  1.   , 13.127],\n",
              "       [56.   ,  0.   ,  1.   ,  1.   ,  8.966],\n",
              "       [22.   ,  0.   ,  2.   ,  0.   , 28.294],\n",
              "       [37.   ,  0.   ,  0.   ,  0.   ,  8.968],\n",
              "       [22.   ,  0.   ,  1.   ,  1.   , 11.953],\n",
              "       [42.   ,  0.   ,  0.   ,  1.   , 20.013],\n",
              "       [72.   ,  0.   ,  2.   ,  0.   ,  9.677],\n",
              "       [23.   ,  0.   ,  1.   ,  1.   , 16.85 ],\n",
              "       [50.   ,  0.   ,  2.   ,  1.   ,  7.49 ],\n",
              "       [47.   ,  1.   ,  1.   ,  0.   ,  6.683],\n",
              "       [35.   ,  0.   ,  0.   ,  0.   ,  9.17 ],\n",
              "       [65.   ,  1.   ,  0.   ,  0.   , 13.769],\n",
              "       [20.   ,  1.   ,  1.   ,  0.   ,  9.281],\n",
              "       [51.   ,  0.   ,  2.   ,  1.   , 18.295],\n",
              "       [67.   ,  0.   ,  1.   ,  0.   ,  9.514],\n",
              "       [40.   ,  1.   ,  1.   ,  1.   , 10.103],\n",
              "       [32.   ,  1.   ,  2.   ,  0.   , 10.292],\n",
              "       [61.   ,  1.   ,  2.   ,  1.   , 25.475],\n",
              "       [28.   ,  0.   ,  1.   ,  1.   , 27.064],\n",
              "       [15.   ,  0.   ,  2.   ,  0.   , 17.206],\n",
              "       [34.   ,  0.   ,  1.   ,  1.   , 22.456],\n",
              "       [36.   ,  1.   ,  1.   ,  1.   , 16.753],\n",
              "       [53.   ,  1.   ,  2.   ,  0.   , 12.495],\n",
              "       [19.   ,  1.   ,  2.   ,  0.   , 25.969],\n",
              "       [66.   ,  0.   ,  2.   ,  1.   , 16.347],\n",
              "       [35.   ,  0.   ,  1.   ,  0.   ,  7.845],\n",
              "       [47.   ,  0.   ,  0.   ,  0.   , 33.542],\n",
              "       [32.   ,  1.   ,  1.   ,  1.   ,  7.477],\n",
              "       [70.   ,  1.   ,  1.   ,  1.   , 20.489],\n",
              "       [52.   ,  0.   ,  0.   ,  0.   , 32.922],\n",
              "       [49.   ,  0.   ,  0.   ,  0.   , 13.598],\n",
              "       [24.   ,  0.   ,  1.   ,  1.   , 25.786],\n",
              "       [42.   ,  1.   ,  2.   ,  1.   , 21.036],\n",
              "       [74.   ,  0.   ,  0.   ,  0.   , 11.939],\n",
              "       [55.   ,  1.   ,  2.   ,  1.   , 10.977],\n",
              "       [35.   ,  1.   ,  2.   ,  1.   , 12.894],\n",
              "       [51.   ,  0.   ,  2.   ,  0.   , 11.343],\n",
              "       [69.   ,  1.   ,  1.   ,  1.   , 10.065],\n",
              "       [49.   ,  0.   ,  2.   ,  0.   ,  6.269],\n",
              "       [64.   ,  1.   ,  0.   ,  0.   , 25.741],\n",
              "       [60.   ,  0.   ,  2.   ,  0.   ,  8.621],\n",
              "       [74.   ,  0.   ,  2.   ,  0.   , 15.436],\n",
              "       [39.   ,  0.   ,  2.   ,  1.   ,  9.664],\n",
              "       [61.   ,  0.   ,  1.   ,  1.   ,  9.443],\n",
              "       [37.   ,  1.   ,  0.   ,  0.   , 12.006],\n",
              "       [26.   ,  1.   ,  2.   ,  0.   , 12.307],\n",
              "       [61.   ,  1.   ,  0.   ,  0.   ,  7.34 ],\n",
              "       [22.   ,  0.   ,  0.   ,  1.   ,  8.151],\n",
              "       [49.   ,  0.   ,  2.   ,  0.   ,  8.7  ],\n",
              "       [68.   ,  0.   ,  2.   ,  1.   , 11.009],\n",
              "       [55.   ,  0.   ,  1.   ,  0.   ,  7.261],\n",
              "       [72.   ,  1.   ,  0.   ,  0.   , 14.642],\n",
              "       [37.   ,  0.   ,  0.   ,  0.   , 16.724],\n",
              "       [49.   ,  0.   ,  0.   ,  1.   , 10.537],\n",
              "       [31.   ,  0.   ,  2.   ,  0.   , 11.227],\n",
              "       [53.   ,  0.   ,  0.   ,  1.   , 22.963],\n",
              "       [59.   ,  1.   ,  0.   ,  1.   , 10.444],\n",
              "       [34.   ,  1.   ,  0.   ,  0.   , 12.923],\n",
              "       [30.   ,  1.   ,  1.   ,  1.   , 10.443],\n",
              "       [57.   ,  1.   ,  2.   ,  0.   ,  9.945],\n",
              "       [43.   ,  0.   ,  1.   ,  0.   , 12.859],\n",
              "       [21.   ,  1.   ,  2.   ,  0.   , 28.632],\n",
              "       [16.   ,  0.   ,  2.   ,  0.   , 19.007],\n",
              "       [38.   ,  0.   ,  0.   ,  1.   , 18.295],\n",
              "       [58.   ,  1.   ,  0.   ,  1.   , 26.645],\n",
              "       [57.   ,  1.   ,  1.   ,  1.   , 14.216],\n",
              "       [51.   ,  1.   ,  0.   ,  0.   , 23.003],\n",
              "       [20.   ,  1.   ,  2.   ,  1.   , 11.262],\n",
              "       [28.   ,  1.   ,  1.   ,  1.   , 12.879],\n",
              "       [45.   ,  0.   ,  0.   ,  0.   , 10.017],\n",
              "       [39.   ,  1.   ,  1.   ,  0.   , 17.225],\n",
              "       [41.   ,  1.   ,  0.   ,  0.   , 18.739],\n",
              "       [42.   ,  0.   ,  2.   ,  0.   , 12.766],\n",
              "       [73.   ,  1.   ,  2.   ,  1.   , 18.348],\n",
              "       [48.   ,  0.   ,  2.   ,  0.   , 10.446],\n",
              "       [25.   ,  0.   ,  1.   ,  1.   , 19.011],\n",
              "       [39.   ,  0.   ,  1.   ,  1.   , 15.969],\n",
              "       [67.   ,  1.   ,  1.   ,  1.   , 15.891],\n",
              "       [22.   ,  1.   ,  2.   ,  0.   , 22.818],\n",
              "       [59.   ,  1.   ,  1.   ,  1.   , 13.884],\n",
              "       [20.   ,  1.   ,  0.   ,  0.   , 11.686],\n",
              "       [36.   ,  1.   ,  2.   ,  0.   , 15.49 ],\n",
              "       [18.   ,  1.   ,  2.   ,  1.   , 37.188],\n",
              "       [57.   ,  1.   ,  1.   ,  0.   , 25.893],\n",
              "       [70.   ,  0.   ,  2.   ,  1.   ,  9.849],\n",
              "       [47.   ,  0.   ,  2.   ,  1.   , 10.403],\n",
              "       [65.   ,  0.   ,  2.   ,  0.   , 34.997],\n",
              "       [64.   ,  0.   ,  2.   ,  0.   , 20.932],\n",
              "       [58.   ,  0.   ,  2.   ,  1.   , 18.991],\n",
              "       [23.   ,  0.   ,  2.   ,  1.   ,  8.011],\n",
              "       [72.   ,  0.   ,  0.   ,  1.   , 16.31 ],\n",
              "       [72.   ,  0.   ,  0.   ,  1.   ,  6.769],\n",
              "       [46.   ,  1.   ,  2.   ,  1.   , 34.686],\n",
              "       [56.   ,  1.   ,  0.   ,  1.   , 11.567],\n",
              "       [16.   ,  0.   ,  0.   ,  1.   , 12.006],\n",
              "       [52.   ,  0.   ,  1.   ,  1.   ,  9.894],\n",
              "       [23.   ,  0.   ,  1.   ,  0.   , 14.02 ],\n",
              "       [40.   ,  1.   ,  0.   ,  0.   , 11.349]])"
            ]
          },
          "metadata": {},
          "execution_count": 95
        }
      ]
    },
    {
      "cell_type": "code",
      "source": [
        "y"
      ],
      "metadata": {
        "colab": {
          "base_uri": "https://localhost:8080/"
        },
        "id": "s89TlgekMFjT",
        "outputId": "37519ab9-5dda-4661-e5b9-5a2ec5e05c6e"
      },
      "execution_count": null,
      "outputs": [
        {
          "output_type": "execute_result",
          "data": {
            "text/plain": [
              "array([['drugY'],\n",
              "       ['drugC'],\n",
              "       ['drugC'],\n",
              "       ['drugX'],\n",
              "       ['drugY'],\n",
              "       ['drugX'],\n",
              "       ['drugY'],\n",
              "       ['drugC'],\n",
              "       ['drugY'],\n",
              "       ['drugY'],\n",
              "       ['drugC'],\n",
              "       ['drugY'],\n",
              "       ['drugY'],\n",
              "       ['drugY'],\n",
              "       ['drugX'],\n",
              "       ['drugY'],\n",
              "       ['drugX'],\n",
              "       ['drugA'],\n",
              "       ['drugC'],\n",
              "       ['drugY'],\n",
              "       ['drugY'],\n",
              "       ['drugY'],\n",
              "       ['drugY'],\n",
              "       ['drugY'],\n",
              "       ['drugY'],\n",
              "       ['drugY'],\n",
              "       ['drugY'],\n",
              "       ['drugX'],\n",
              "       ['drugY'],\n",
              "       ['drugY'],\n",
              "       ['drugX'],\n",
              "       ['drugB'],\n",
              "       ['drugX'],\n",
              "       ['drugY'],\n",
              "       ['drugX'],\n",
              "       ['drugX'],\n",
              "       ['drugA'],\n",
              "       ['drugX'],\n",
              "       ['drugX'],\n",
              "       ['drugX'],\n",
              "       ['drugY'],\n",
              "       ['drugB'],\n",
              "       ['drugY'],\n",
              "       ['drugX'],\n",
              "       ['drugX'],\n",
              "       ['drugX'],\n",
              "       ['drugA'],\n",
              "       ['drugC'],\n",
              "       ['drugY'],\n",
              "       ['drugY'],\n",
              "       ['drugY'],\n",
              "       ['drugX'],\n",
              "       ['drugY'],\n",
              "       ['drugY'],\n",
              "       ['drugB'],\n",
              "       ['drugC'],\n",
              "       ['drugB'],\n",
              "       ['drugY'],\n",
              "       ['drugX'],\n",
              "       ['drugY'],\n",
              "       ['drugY'],\n",
              "       ['drugA'],\n",
              "       ['drugY'],\n",
              "       ['drugX'],\n",
              "       ['drugB'],\n",
              "       ['drugY'],\n",
              "       ['drugA'],\n",
              "       ['drugX'],\n",
              "       ['drugY'],\n",
              "       ['drugY'],\n",
              "       ['drugB'],\n",
              "       ['drugY'],\n",
              "       ['drugX'],\n",
              "       ['drugY'],\n",
              "       ['drugY'],\n",
              "       ['drugY'],\n",
              "       ['drugA'],\n",
              "       ['drugY'],\n",
              "       ['drugA'],\n",
              "       ['drugX'],\n",
              "       ['drugB'],\n",
              "       ['drugX'],\n",
              "       ['drugC'],\n",
              "       ['drugA'],\n",
              "       ['drugC'],\n",
              "       ['drugB'],\n",
              "       ['drugX'],\n",
              "       ['drugY'],\n",
              "       ['drugY'],\n",
              "       ['drugY'],\n",
              "       ['drugY'],\n",
              "       ['drugY'],\n",
              "       ['drugY'],\n",
              "       ['drugY'],\n",
              "       ['drugY'],\n",
              "       ['drugX'],\n",
              "       ['drugY'],\n",
              "       ['drugY'],\n",
              "       ['drugY'],\n",
              "       ['drugY'],\n",
              "       ['drugA'],\n",
              "       ['drugA'],\n",
              "       ['drugC'],\n",
              "       ['drugX'],\n",
              "       ['drugY'],\n",
              "       ['drugX'],\n",
              "       ['drugX'],\n",
              "       ['drugY'],\n",
              "       ['drugB'],\n",
              "       ['drugY'],\n",
              "       ['drugA'],\n",
              "       ['drugX'],\n",
              "       ['drugX'],\n",
              "       ['drugX'],\n",
              "       ['drugX'],\n",
              "       ['drugY'],\n",
              "       ['drugX'],\n",
              "       ['drugX'],\n",
              "       ['drugA'],\n",
              "       ['drugY'],\n",
              "       ['drugY'],\n",
              "       ['drugY'],\n",
              "       ['drugY'],\n",
              "       ['drugY'],\n",
              "       ['drugB'],\n",
              "       ['drugY'],\n",
              "       ['drugY'],\n",
              "       ['drugX'],\n",
              "       ['drugY'],\n",
              "       ['drugX'],\n",
              "       ['drugY'],\n",
              "       ['drugY'],\n",
              "       ['drugX'],\n",
              "       ['drugY'],\n",
              "       ['drugY'],\n",
              "       ['drugX'],\n",
              "       ['drugB'],\n",
              "       ['drugA'],\n",
              "       ['drugB'],\n",
              "       ['drugX'],\n",
              "       ['drugA'],\n",
              "       ['drugY'],\n",
              "       ['drugB'],\n",
              "       ['drugY'],\n",
              "       ['drugA'],\n",
              "       ['drugX'],\n",
              "       ['drugX'],\n",
              "       ['drugA'],\n",
              "       ['drugX'],\n",
              "       ['drugC'],\n",
              "       ['drugA'],\n",
              "       ['drugB'],\n",
              "       ['drugX'],\n",
              "       ['drugX'],\n",
              "       ['drugY'],\n",
              "       ['drugC'],\n",
              "       ['drugA'],\n",
              "       ['drugY'],\n",
              "       ['drugC'],\n",
              "       ['drugX'],\n",
              "       ['drugX'],\n",
              "       ['drugB'],\n",
              "       ['drugX'],\n",
              "       ['drugY'],\n",
              "       ['drugY'],\n",
              "       ['drugY'],\n",
              "       ['drugY'],\n",
              "       ['drugX'],\n",
              "       ['drugY'],\n",
              "       ['drugA'],\n",
              "       ['drugX'],\n",
              "       ['drugX'],\n",
              "       ['drugY'],\n",
              "       ['drugY'],\n",
              "       ['drugA'],\n",
              "       ['drugY'],\n",
              "       ['drugA'],\n",
              "       ['drugY'],\n",
              "       ['drugY'],\n",
              "       ['drugY'],\n",
              "       ['drugY'],\n",
              "       ['drugX'],\n",
              "       ['drugX'],\n",
              "       ['drugY'],\n",
              "       ['drugY'],\n",
              "       ['drugY'],\n",
              "       ['drugB'],\n",
              "       ['drugA'],\n",
              "       ['drugY'],\n",
              "       ['drugY'],\n",
              "       ['drugY'],\n",
              "       ['drugA'],\n",
              "       ['drugY'],\n",
              "       ['drugC'],\n",
              "       ['drugY'],\n",
              "       ['drugC'],\n",
              "       ['drugC'],\n",
              "       ['drugX'],\n",
              "       ['drugX'],\n",
              "       ['drugX']], dtype=object)"
            ]
          },
          "metadata": {},
          "execution_count": 96
        }
      ]
    },
    {
      "cell_type": "code",
      "source": [
        "from sklearn.model_selection import train_test_split\n",
        "xtrain,xtest,ytrain,ytest=train_test_split(x,y,test_size=0.2,random_state=5)"
      ],
      "metadata": {
        "id": "E5EX3rRRNqsn"
      },
      "execution_count": null,
      "outputs": []
    },
    {
      "cell_type": "code",
      "source": [
        "from sklearn.neighbors import KNeighborsClassifier\n",
        "knn_classifier=KNeighborsClassifier(n_neighbors=5)\n",
        "knn_classifier.fit(xtrain,ytrain)\n"
      ],
      "metadata": {
        "colab": {
          "base_uri": "https://localhost:8080/"
        },
        "id": "MF6faLwSOSvN",
        "outputId": "05da7eed-a58f-4f1d-d6db-41b9e9af9743"
      },
      "execution_count": null,
      "outputs": [
        {
          "output_type": "stream",
          "name": "stderr",
          "text": [
            "/usr/local/lib/python3.7/dist-packages/sklearn/neighbors/_classification.py:198: DataConversionWarning: A column-vector y was passed when a 1d array was expected. Please change the shape of y to (n_samples,), for example using ravel().\n",
            "  return self._fit(X, y)\n"
          ]
        },
        {
          "output_type": "execute_result",
          "data": {
            "text/plain": [
              "KNeighborsClassifier()"
            ]
          },
          "metadata": {},
          "execution_count": 98
        }
      ]
    },
    {
      "cell_type": "code",
      "source": [
        "from sklearn.metrics import accuracy_score\n",
        "print('accuracy_score for training is:',accuracy_score(ytrain,knn_classifier.predict(xtrain)))\n",
        "print('accuracy_score for testing is:',accuracy_score(ytest,knn_classifier.predict(xtest)))"
      ],
      "metadata": {
        "colab": {
          "base_uri": "https://localhost:8080/"
        },
        "id": "BWrAXRzVO0_9",
        "outputId": "99cb5645-4522-44a2-9047-a8542b0301ec"
      },
      "execution_count": null,
      "outputs": [
        {
          "output_type": "stream",
          "name": "stdout",
          "text": [
            "accuracy_score for training is: 0.775\n",
            "accuracy_score for testing is: 0.725\n"
          ]
        }
      ]
    },
    {
      "cell_type": "markdown",
      "source": [
        " we can implement multi-class  classification in confusion matrix but it doesnot contains fn,fp along with diagnoal was considered as correct \n",
        "\n"
      ],
      "metadata": {
        "id": "QK2rAs0SVdUz"
      }
    },
    {
      "cell_type": "code",
      "source": [
        "from sklearn.metrics import confusion_matrix\n",
        "cm=confusion_matrix(ytest,knn_classifier.predict(xtest))"
      ],
      "metadata": {
        "id": "pvoLNsVqRbMh"
      },
      "execution_count": null,
      "outputs": []
    },
    {
      "cell_type": "code",
      "source": [
        "import itertools\n",
        "def plot_confusion_matrix(cm, classes,\n",
        "                          normalize=False,\n",
        "                          title='Confusion matrix',\n",
        "                          cmap=plt.cm.Blues):\n",
        "    \"\"\"\n",
        "    This function prints and plots the confusion matrix.\n",
        "    Normalization can be applied by setting `normalize=True`.\n",
        "    \"\"\"\n",
        "    plt.imshow(cm, interpolation='nearest', cmap=cmap)\n",
        "    plt.title(title)\n",
        "    plt.colorbar()\n",
        "    tick_marks = np.arange(len(classes))\n",
        "    plt.xticks(tick_marks, classes, rotation=30)\n",
        "    plt.yticks(tick_marks, classes)\n",
        "\n",
        "    if normalize:\n",
        "        cm = cm.astype('float') / cm.sum(axis=1)[:, np.newaxis]\n",
        "        print(\"Normalized confusion matrix\")\n",
        "    else:\n",
        "        print('Confusion matrix, without normalization')\n",
        "\n",
        "    #print(cm)\n",
        "\n",
        "    thresh = cm.max() / 2.\n",
        "    for i, j in itertools.product(range(cm.shape[0]), range(cm.shape[1])):\n",
        "        plt.text(j, i, cm[i, j],\n",
        "            horizontalalignment=\"center\",\n",
        "            color=\"white\" if cm[i, j] > thresh else \"black\")\n",
        "\n",
        "    plt.tight_layout()\n",
        "    plt.ylabel('True label')\n",
        "    plt.xlabel('Predicted label')"
      ],
      "metadata": {
        "id": "9Sqdgp4mWR7w"
      },
      "execution_count": null,
      "outputs": []
    },
    {
      "cell_type": "code",
      "source": [
        "classes=['drugY','drugC','drugX','drugA','drugB']\n",
        "plt.plot(figsize=(6,6),dpi=30)\n",
        "plot_confusion_matrix(cm,classes)"
      ],
      "metadata": {
        "colab": {
          "base_uri": "https://localhost:8080/",
          "height": 329
        },
        "id": "I8PPuOkRWmfC",
        "outputId": "6b00f5c4-3bc8-4ca9-df57-c954cdecea4c"
      },
      "execution_count": null,
      "outputs": [
        {
          "output_type": "stream",
          "name": "stdout",
          "text": [
            "Confusion matrix, without normalization\n"
          ]
        },
        {
          "output_type": "display_data",
          "data": {
            "text/plain": [
              "<Figure size 432x288 with 2 Axes>"
            ],
            "image/png": "[encoded data removed]"
          },
          "metadata": {
            "needs_background": "light"
          }
        }
      ]
    },
    {
      "cell_type": "code",
      "source": [
        "acc_train=[]\n",
        "acc_test=[]\n",
        "for i in range(1,21):\n",
        "  knn_classifier=KNeighborsClassifier(n_neighbors=i)\n",
        "  knn_classifier.fit(xtrain,ytrain)\n",
        "  acc_train.append(accuracy_score(ytrain,knn_classifier.predict(xtrain)))\n",
        "  acc_test.append(accuracy_score(ytest,knn_classifier.predict(xtest)))\n",
        "\n"
      ],
      "metadata": {
        "id": "yP1lwIuBue4S"
      },
      "execution_count": null,
      "outputs": []
    },
    {
      "cell_type": "code",
      "source": [
        "x=list(range(1,21))\n",
        "plt.figure(figsize=(7,7),dpi=50)\n",
        "plt.plot(x,acc_train,color='red',label='training_accuracy')\n",
        "plt.plot(x,acc_test,color='green',label='testing_accuracy')\n",
        "plt.legend()\n",
        "plt.grid()\n",
        "'''\n",
        "From graph we can understand that low values in training_accuracy contains high variance in testing_accuracy and high values in training_accuracy contains low variance means high bias\n",
        "the best fit value in this KNN is where training and testing accuracy coincides i.e,3\n",
        "'''\n"
      ],
      "metadata": {
        "colab": {
          "base_uri": "https://localhost:8080/",
          "height": 356
        },
        "id": "9sM2MhE1wp7e",
        "outputId": "e1352687-e9df-4184-ed4e-c67b1a1131ea"
      },
      "execution_count": null,
      "outputs": [
        {
          "output_type": "execute_result",
          "data": {
            "text/plain": [
              "'\\nFrom graph we can understand that low values in training_accuracy contains high variance in testing_accuracy and high values in training_accuracy contains low variance means high bias\\nthe best fit value in this KNN is where training and testing accuracy coincides i.e,3\\n'"
            ],
            "application/vnd.google.colaboratory.intrinsic+json": {
              "type": "string"
            }
          },
          "metadata": {},
          "execution_count": 120
        },
        {
          "output_type": "display_data",
          "data": {
            "text/plain": [
              "<Figure size 350x350 with 1 Axes>"
            ],
            "image/png": "[encoded data removed]"
          },
          "metadata": {
            "needs_background": "light"
          }
        }
      ]
    }
  ]
}